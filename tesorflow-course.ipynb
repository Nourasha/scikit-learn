{
  "nbformat": 4,
  "nbformat_minor": 0,
  "metadata": {
    "colab": {
      "provenance": [],
      "authorship_tag": "ABX9TyPwSaKGWfONSImDBLV5SPrw",
      "include_colab_link": true
    },
    "kernelspec": {
      "name": "python3",
      "display_name": "Python 3"
    },
    "language_info": {
      "name": "python"
    }
  },
  "cells": [
    {
      "cell_type": "markdown",
      "metadata": {
        "id": "view-in-github",
        "colab_type": "text"
      },
      "source": [
        "<a href=\"https://colab.research.google.com/github/Nourasha/scikit-learn/blob/main/tesorflow-course.ipynb\" target=\"_parent\"><img src=\"https://colab.research.google.com/assets/colab-badge.svg\" alt=\"Open In Colab\"/></a>"
      ]
    },
    {
      "cell_type": "code",
      "execution_count": 4,
      "metadata": {
        "colab": {
          "base_uri": "https://localhost:8080/"
        },
        "id": "gBGUgF85SSZz",
        "outputId": "0b059541-3a6d-480c-da62-31e3bd409b34"
      },
      "outputs": [
        {
          "output_type": "stream",
          "name": "stdout",
          "text": [
            "2.17.1\n"
          ]
        }
      ],
      "source": [
        "import tensorflow as tf\n",
        "\n",
        "print(tf.__version__)"
      ]
    },
    {
      "cell_type": "code",
      "source": [
        "# initialization\n",
        "x = tf.constant(4, shape=(1,1), dtype=tf.float32)\n",
        "x = tf.constant([[1,2,3],[4,5,6]])\n",
        "x = tf.ones((3,3))\n",
        "x = tf.zeros((2,3))\n",
        "x = tf.eye(3) # I for the identity matrix (eye)\n",
        "x = tf.random.normal((3,3), mean=0, stddev=1)\n",
        "print(x)\n",
        "x = tf.random.uniform((1,3), minval=0, maxval=1)\n",
        "x = tf.range(9)\n",
        "#Mathmetical Operations\n",
        "x = tf.constant([1,2,3])\n",
        "y = tf.constant([9,8,7])\n",
        "z = tf.add(x,y)\n",
        "z = x + y\n",
        "z = tf.subtract(x,y)\n",
        "z = x - y\n",
        "z = tf.divide(x,y)\n",
        "z = x / y\n",
        "z = tf.multiply(x,y)\n",
        "z = x * y\n",
        "z = tf.tensordot(x,y, axes=1)\n",
        "z = tf.reduce_sum(x*y, axis=0)\n",
        "z = x ** 5\n",
        "x = tf.random.normal((2,3))\n",
        "y = tf.random.normal((3,2))\n",
        "z = tf.matmul(x,y)\n",
        "z = x @ y\n",
        "print(z)\n",
        "\n",
        "#Indexing\n",
        "x = tf.constant([0,1,1,2,3,1,2,3])\n",
        "print(x[:])\n",
        "print(x[1:])\n",
        "print(x[1:3])\n",
        "print(x[::2])\n",
        "print(x[::-1])\n",
        "indices = tf.constant([0,3])\n",
        "x_ind = tf.gather(x, indices)\n",
        "print(x_ind)"
      ],
      "metadata": {
        "colab": {
          "base_uri": "https://localhost:8080/"
        },
        "id": "fX3Ynsc2S-Hq",
        "outputId": "28494537-48fb-42a2-8163-6ed323b9083e"
      },
      "execution_count": 9,
      "outputs": [
        {
          "output_type": "stream",
          "name": "stdout",
          "text": [
            "tf.Tensor(\n",
            "[[-0.66543615  0.5520498   1.0867397 ]\n",
            " [-0.09103469  0.11798219 -2.243034  ]\n",
            " [-0.29257458 -0.3279423   0.5822143 ]], shape=(3, 3), dtype=float32)\n"
          ]
        }
      ]
    },
    {
      "cell_type": "code",
      "source": [
        ""
      ],
      "metadata": {
        "id": "GqirvSUcU5Ib"
      },
      "execution_count": null,
      "outputs": []
    }
  ]
}